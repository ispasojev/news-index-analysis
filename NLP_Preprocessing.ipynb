{
 "cells": [
  {
   "cell_type": "markdown",
   "id": "3d4c4635",
   "metadata": {},
   "source": [
    "### Loading libraries"
   ]
  },
  {
   "cell_type": "code",
   "execution_count": 1,
   "id": "5be85c57",
   "metadata": {},
   "outputs": [],
   "source": [
    "%%capture\n",
    "!pip install num2words\n",
    "!pip install -U spacy\n",
    "!python3 -m spacy download en_core_web_md"
   ]
  },
  {
   "cell_type": "code",
   "execution_count": 1,
   "id": "de3ce0bb",
   "metadata": {},
   "outputs": [],
   "source": [
    "%%capture\n",
    "from word2number import w2n\n",
    "\n",
    "import pandas as pd\n",
    "\n",
    "# Spacy\n",
    "import spacy\n",
    "nlp=spacy.load('en_core_web_sm')\n",
    "\n",
    "# inflect\n",
    "import inflect\n",
    "inflect = inflect.engine()\n",
    "\n",
    "#w2n.word_to_num('hey was geht')\n",
    "from num2words import num2words\n",
    "\n",
    "#for spell correction\n",
    "from textblob import TextBlob\n",
    "\n",
    "#for creating vecotorization\n",
    "import numpy as np\n",
    "from sklearn.feature_extraction.text import CountVectorizer\n",
    "from sklearn.preprocessing import LabelEncoder\n",
    "from keras.preprocessing.text import Tokenizer\n",
    "from keras.preprocessing import sequence\n",
    "\n",
    "#for plotting\n",
    "import matplotlib.pyplot as plt\n",
    "import plotly.express as px\n",
    "\n",
    "#for removing stopwords\n",
    "import nltk\n",
    "nltk.download('stopwords')\n",
    "from nltk.corpus import stopwords as nltk_stopwords\n",
    "\n",
    "#for drawing graphs\n",
    "import networkx as nx\n",
    "\n",
    "#for nlp\n",
    "from nltk.corpus import wordnet as guru\n",
    "from nltk.corpus import wordnet\n",
    "syns = wordnet.synsets(\"dog\")\n",
    "print(syns)\n",
    "\n",
    "#for text manipulation\n",
    "import regex as re\n",
    "\n",
    "#avoid unneccessary output\n",
    "import warnings\n",
    "warnings.filterwarnings('ignore')"
   ]
  },
  {
   "cell_type": "markdown",
   "id": "08e7ffb1",
   "metadata": {},
   "source": [
    "## Preprocessing"
   ]
  },
  {
   "cell_type": "markdown",
   "id": "dd5ad74f",
   "metadata": {},
   "source": [
    "#### Read in Data"
   ]
  },
  {
   "cell_type": "code",
   "execution_count": 2,
   "id": "69ef9af3",
   "metadata": {},
   "outputs": [],
   "source": [
    "df = pd.read_csv('./data/sample_data.csv')"
   ]
  },
  {
   "cell_type": "code",
   "execution_count": 3,
   "id": "da12c68d",
   "metadata": {},
   "outputs": [
    {
     "data": {
      "text/html": [
       "<style type=\"text/css\">\n",
       "</style>\n",
       "<table id=\"T_0ac04_\">\n",
       "  <thead>\n",
       "    <tr>\n",
       "      <th class=\"blank level0\" >&nbsp;</th>\n",
       "      <th class=\"col_heading level0 col0\" >URL</th>\n",
       "      <th class=\"col_heading level0 col1\" >datetime</th>\n",
       "      <th class=\"col_heading level0 col2\" >heading</th>\n",
       "      <th class=\"col_heading level0 col3\" >text</th>\n",
       "    </tr>\n",
       "  </thead>\n",
       "  <tbody>\n",
       "    <tr>\n",
       "      <th id=\"T_0ac04_level0_row0\" class=\"row_heading level0 row0\" >0</th>\n",
       "      <td id=\"T_0ac04_row0_col0\" class=\"data row0 col0\" >https://www.scmp.com/news/hong-kong/education/article/3195500/pity-children-hong-kong-counts-cost-months-virtual-lessons</td>\n",
       "      <td id=\"T_0ac04_row0_col1\" class=\"data row0 col1\" >2022-10-11T00:00:11.000Z</td>\n",
       "      <td id=\"T_0ac04_row0_col2\" class=\"data row0 col2\" >Pity the children: Hong Kong counts the cost of months of virtual lessons amid the Covid pandemic, with no time to play, make friends</td>\n",
       "      <td id=\"T_0ac04_row0_col3\" class=\"data row0 col3\" >Younger children struggling to adjust to school life, some teens have anxiety, emotional issuesExperts concerned about youngsters’ greater use of electronic devices, rise in child suicides too</td>\n",
       "    </tr>\n",
       "    <tr>\n",
       "      <th id=\"T_0ac04_level0_row1\" class=\"row_heading level0 row1\" >1</th>\n",
       "      <td id=\"T_0ac04_row1_col0\" class=\"data row1 col0\" >https://www.scmp.com/news/hong-kong/politics/article/3195492/hong-kong-protests-young-people-jailed-over-unrest-should</td>\n",
       "      <td id=\"T_0ac04_row1_col1\" class=\"data row1 col1\" >2022-10-10T23:30:10.000Z</td>\n",
       "      <td id=\"T_0ac04_row1_col2\" class=\"data row1 col2\" >Hong Kong protests: young people jailed over unrest should be allowed to contribute to society on release, rehabilitation group says</td>\n",
       "      <td id=\"T_0ac04_row1_col3\" class=\"data row1 col3\" >Protesters jailed over 2019 anti-government protests should be used to help beat brain drain and be given more support to continue education behind bars, group saysProject Change appeals to professional bodies to relax rules on members and applicants who had fallen foul of the law</td>\n",
       "    </tr>\n",
       "  </tbody>\n",
       "</table>\n"
      ],
      "text/plain": [
       "<pandas.io.formats.style.Styler at 0x20f072ce3d0>"
      ]
     },
     "execution_count": 3,
     "metadata": {},
     "output_type": "execute_result"
    }
   ],
   "source": [
    "df.head(2).style"
   ]
  },
  {
   "cell_type": "markdown",
   "id": "1c8e66e5",
   "metadata": {},
   "source": [
    "#### correct spelling\n",
    "\n",
    "to identify words with same meaning"
   ]
  },
  {
   "cell_type": "code",
   "execution_count": 4,
   "id": "eacd6d04",
   "metadata": {},
   "outputs": [],
   "source": [
    "def correct_spelling(text):\n",
    "    \n",
    "    #correct any spelling mistakes\n",
    "    text = TextBlob(text)\n",
    "    text = str(text.correct())\n",
    "\n",
    "    #the spell correction works but takes a lot of runtime\n",
    "    #therefore it is commented out at the momement\n",
    "    \n",
    "    # write words out\n",
    "    # first making sure we get all variation of apostrophes\n",
    "    text = re.sub(r\"’\", \"'\", text)\n",
    "    text = re.sub(r\"n\\'t\", \" not \", text)\n",
    "    text = re.sub(r\"\\'re\", \" are \", text)\n",
    "    text = re.sub(r\"\\'s\", \" is \", text)\n",
    "    text = re.sub(r\"\\'d\", \" would \", text)\n",
    "    text = re.sub(r\"\\'ll\", \" will \", text)\n",
    "    text = re.sub(r\"\\'t\", \" not \", text)\n",
    "    text = re.sub(r\"\\'ve\", \" have \", text)\n",
    "    text = re.sub(r\"\\'m\", \" am \", text)\n",
    "    \n",
    "    return text\n",
    "\n",
    "df['processed_text'] = df['text'].apply(lambda x: correct_spelling(x))"
   ]
  },
  {
   "cell_type": "code",
   "execution_count": 5,
   "id": "43976de5",
   "metadata": {},
   "outputs": [
    {
     "data": {
      "text/html": [
       "<style type=\"text/css\">\n",
       "</style>\n",
       "<table id=\"T_c9731_\">\n",
       "  <thead>\n",
       "    <tr>\n",
       "      <th class=\"blank level0\" >&nbsp;</th>\n",
       "      <th class=\"col_heading level0 col0\" >URL</th>\n",
       "      <th class=\"col_heading level0 col1\" >datetime</th>\n",
       "      <th class=\"col_heading level0 col2\" >heading</th>\n",
       "      <th class=\"col_heading level0 col3\" >text</th>\n",
       "      <th class=\"col_heading level0 col4\" >processed_text</th>\n",
       "    </tr>\n",
       "  </thead>\n",
       "  <tbody>\n",
       "    <tr>\n",
       "      <th id=\"T_c9731_level0_row0\" class=\"row_heading level0 row0\" >0</th>\n",
       "      <td id=\"T_c9731_row0_col0\" class=\"data row0 col0\" >https://www.scmp.com/news/hong-kong/education/article/3195500/pity-children-hong-kong-counts-cost-months-virtual-lessons</td>\n",
       "      <td id=\"T_c9731_row0_col1\" class=\"data row0 col1\" >2022-10-11T00:00:11.000Z</td>\n",
       "      <td id=\"T_c9731_row0_col2\" class=\"data row0 col2\" >Pity the children: Hong Kong counts the cost of months of virtual lessons amid the Covid pandemic, with no time to play, make friends</td>\n",
       "      <td id=\"T_c9731_row0_col3\" class=\"data row0 col3\" >Younger children struggling to adjust to school life, some teens have anxiety, emotional issuesExperts concerned about youngsters’ greater use of electronic devices, rise in child suicides too</td>\n",
       "      <td id=\"T_c9731_row0_col4\" class=\"data row0 col4\" >Younger children struggling to adjust to school life, some tens have anxiety, emotional issuesExperts concerned about youngsters' greater use of electronic devices, rise in child suicide too</td>\n",
       "    </tr>\n",
       "    <tr>\n",
       "      <th id=\"T_c9731_level0_row1\" class=\"row_heading level0 row1\" >1</th>\n",
       "      <td id=\"T_c9731_row1_col0\" class=\"data row1 col0\" >https://www.scmp.com/news/hong-kong/politics/article/3195492/hong-kong-protests-young-people-jailed-over-unrest-should</td>\n",
       "      <td id=\"T_c9731_row1_col1\" class=\"data row1 col1\" >2022-10-10T23:30:10.000Z</td>\n",
       "      <td id=\"T_c9731_row1_col2\" class=\"data row1 col2\" >Hong Kong protests: young people jailed over unrest should be allowed to contribute to society on release, rehabilitation group says</td>\n",
       "      <td id=\"T_c9731_row1_col3\" class=\"data row1 col3\" >Protesters jailed over 2019 anti-government protests should be used to help beat brain drain and be given more support to continue education behind bars, group saysProject Change appeals to professional bodies to relax rules on members and applicants who had fallen foul of the law</td>\n",
       "      <td id=\"T_c9731_row1_col4\" class=\"data row1 col4\" >Protesters jailed over 2019 anti-government protests should be used to help beat brain drain and be given more support to continue education behind bars, group saysProject Change appeals to professional bodies to relax rules on members and applicant who had fallen foul of the law</td>\n",
       "    </tr>\n",
       "    <tr>\n",
       "      <th id=\"T_c9731_level0_row2\" class=\"row_heading level0 row2\" >2</th>\n",
       "      <td id=\"T_c9731_row2_col0\" class=\"data row2 col0\" >https://www.scmp.com/news/hong-kong/politics/article/3195498/russian-consulate-hong-kong-given-advanced-notice-arrival</td>\n",
       "      <td id=\"T_c9731_row2_col1\" class=\"data row2 col1\" >2022-10-10T15:40:48.000Z</td>\n",
       "      <td id=\"T_c9731_row2_col2\" class=\"data row2 col2\" >Russian consulate in Hong Kong given advanced notice for arrival of superyacht linked to sanctioned billionaire</td>\n",
       "      <td id=\"T_c9731_row2_col3\" class=\"data row2 col3\" >Russia’s top envoy in city says he ‘fully agreed’ with decision by Hong Kong Marine Department to refrain from implementing sanctions issued by third countryArrival of the superyacht has led to a diplomatic row between the US and Beijing, with former saying Hong Kong’s reputation is at stake</td>\n",
       "      <td id=\"T_c9731_row2_col4\" class=\"data row2 col4\" >Russia is  top envoy in city says he ‘fully agreed' with decision by Long Long Marine Department to refrain from implementing sanction issued by third countryArrival of the superyacht has led to a diplomatic row between the of and Seizing, with former saying Long Long is  reputation is at stake</td>\n",
       "    </tr>\n",
       "  </tbody>\n",
       "</table>\n"
      ],
      "text/plain": [
       "<pandas.io.formats.style.Styler at 0x20f1f2b6d60>"
      ]
     },
     "execution_count": 5,
     "metadata": {},
     "output_type": "execute_result"
    }
   ],
   "source": [
    "df.head(3).style"
   ]
  },
  {
   "cell_type": "markdown",
   "id": "e4f9b43f",
   "metadata": {},
   "source": [
    "#### remove punctuation and other irritating parts\n"
   ]
  },
  {
   "cell_type": "code",
   "execution_count": 6,
   "id": "fd5d605e",
   "metadata": {},
   "outputs": [],
   "source": [
    "# Pre-processing step `remove special chars`\n",
    "def remove_special_characters_and_parts(text):\n",
    "\n",
    "    #replace all words that just contain one letter\n",
    "    text = re.sub(r'(?:^| )\\w(?:$| )', ' ', str(text)).strip()\n",
    "\n",
    "    #remove most puntuation\n",
    "    text = re.sub('([()‘’“”…+\\-\\{\\}])+', ' ', text)\n",
    "    text = re.sub(r\"\\\\'+\",' ', text)\n",
    "    text = re.sub(r'\\\\\"+',' ', text)\n",
    "    text = re.sub(r'\\\\^+',' ', text)\n",
    "    text = re.sub(r'\\.+',' ', text)\n",
    "    text = re.sub(r'\\;+',' ', text)\n",
    "    text = re.sub(r'\\!+',' ', text)\n",
    "    text = re.sub(r'\\,+',' ', text)\n",
    "    text = re.sub(r'\\?+',' ', text)\n",
    "    text = re.sub(r'\\'+',' ', text)\n",
    "    text = re.sub(r'\\\"+',' ', text)\n",
    "    text = re.sub(r'\\'+',' ', text)\n",
    "    \n",
    "    #remove slashes\n",
    "    text = re.sub('\\n', ' ', text)\n",
    "    text = re.sub(r'[\\\\(/)]',' ', text)\n",
    "    text = re.sub(r'[\\\\(\\)]',' ', text)\n",
    "\n",
    "    #get rid of and as a sign\n",
    "    text = re.sub(r'\\&',' and ', text)\n",
    "\n",
    "    #remove unnecessary whitespaces\n",
    "    text = re.sub(r'\\s+', ' ', text)\n",
    "\n",
    "    return text\n",
    "\n",
    "df['processed_text'] = df['processed_text'].apply(lambda x: remove_special_characters_and_parts(x))"
   ]
  },
  {
   "cell_type": "code",
   "execution_count": 7,
   "id": "9a27fe0e",
   "metadata": {},
   "outputs": [
    {
     "data": {
      "text/html": [
       "<style type=\"text/css\">\n",
       "</style>\n",
       "<table id=\"T_e5bb9_\">\n",
       "  <thead>\n",
       "    <tr>\n",
       "      <th class=\"blank level0\" >&nbsp;</th>\n",
       "      <th class=\"col_heading level0 col0\" >URL</th>\n",
       "      <th class=\"col_heading level0 col1\" >datetime</th>\n",
       "      <th class=\"col_heading level0 col2\" >heading</th>\n",
       "      <th class=\"col_heading level0 col3\" >text</th>\n",
       "      <th class=\"col_heading level0 col4\" >processed_text</th>\n",
       "    </tr>\n",
       "  </thead>\n",
       "  <tbody>\n",
       "    <tr>\n",
       "      <th id=\"T_e5bb9_level0_row0\" class=\"row_heading level0 row0\" >0</th>\n",
       "      <td id=\"T_e5bb9_row0_col0\" class=\"data row0 col0\" >https://www.scmp.com/news/hong-kong/education/article/3195500/pity-children-hong-kong-counts-cost-months-virtual-lessons</td>\n",
       "      <td id=\"T_e5bb9_row0_col1\" class=\"data row0 col1\" >2022-10-11T00:00:11.000Z</td>\n",
       "      <td id=\"T_e5bb9_row0_col2\" class=\"data row0 col2\" >Pity the children: Hong Kong counts the cost of months of virtual lessons amid the Covid pandemic, with no time to play, make friends</td>\n",
       "      <td id=\"T_e5bb9_row0_col3\" class=\"data row0 col3\" >Younger children struggling to adjust to school life, some teens have anxiety, emotional issuesExperts concerned about youngsters’ greater use of electronic devices, rise in child suicides too</td>\n",
       "      <td id=\"T_e5bb9_row0_col4\" class=\"data row0 col4\" >Younger children struggling to adjust to school life some tens have anxiety emotional issuesExperts concerned about youngsters greater use of electronic devices rise in child suicide too</td>\n",
       "    </tr>\n",
       "    <tr>\n",
       "      <th id=\"T_e5bb9_level0_row1\" class=\"row_heading level0 row1\" >1</th>\n",
       "      <td id=\"T_e5bb9_row1_col0\" class=\"data row1 col0\" >https://www.scmp.com/news/hong-kong/politics/article/3195492/hong-kong-protests-young-people-jailed-over-unrest-should</td>\n",
       "      <td id=\"T_e5bb9_row1_col1\" class=\"data row1 col1\" >2022-10-10T23:30:10.000Z</td>\n",
       "      <td id=\"T_e5bb9_row1_col2\" class=\"data row1 col2\" >Hong Kong protests: young people jailed over unrest should be allowed to contribute to society on release, rehabilitation group says</td>\n",
       "      <td id=\"T_e5bb9_row1_col3\" class=\"data row1 col3\" >Protesters jailed over 2019 anti-government protests should be used to help beat brain drain and be given more support to continue education behind bars, group saysProject Change appeals to professional bodies to relax rules on members and applicants who had fallen foul of the law</td>\n",
       "      <td id=\"T_e5bb9_row1_col4\" class=\"data row1 col4\" >Protesters jailed over 2019 anti government protests should be used to help beat brain drain and be given more support to continue education behind bars group saysProject Change appeals to professional bodies to relax rules on members and applicant who had fallen foul of the law</td>\n",
       "    </tr>\n",
       "    <tr>\n",
       "      <th id=\"T_e5bb9_level0_row2\" class=\"row_heading level0 row2\" >2</th>\n",
       "      <td id=\"T_e5bb9_row2_col0\" class=\"data row2 col0\" >https://www.scmp.com/news/hong-kong/politics/article/3195498/russian-consulate-hong-kong-given-advanced-notice-arrival</td>\n",
       "      <td id=\"T_e5bb9_row2_col1\" class=\"data row2 col1\" >2022-10-10T15:40:48.000Z</td>\n",
       "      <td id=\"T_e5bb9_row2_col2\" class=\"data row2 col2\" >Russian consulate in Hong Kong given advanced notice for arrival of superyacht linked to sanctioned billionaire</td>\n",
       "      <td id=\"T_e5bb9_row2_col3\" class=\"data row2 col3\" >Russia’s top envoy in city says he ‘fully agreed’ with decision by Hong Kong Marine Department to refrain from implementing sanctions issued by third countryArrival of the superyacht has led to a diplomatic row between the US and Beijing, with former saying Hong Kong’s reputation is at stake</td>\n",
       "      <td id=\"T_e5bb9_row2_col4\" class=\"data row2 col4\" >Russia is top envoy in city says he fully agreed with decision by Long Long Marine Department to refrain from implementing sanction issued by third countryArrival of the superyacht has led to diplomatic row between the of and Seizing with former saying Long Long is reputation is at stake</td>\n",
       "    </tr>\n",
       "  </tbody>\n",
       "</table>\n"
      ],
      "text/plain": [
       "<pandas.io.formats.style.Styler at 0x20f1f2c35e0>"
      ]
     },
     "execution_count": 7,
     "metadata": {},
     "output_type": "execute_result"
    }
   ],
   "source": [
    "df.head(3).style"
   ]
  },
  {
   "cell_type": "markdown",
   "id": "78c17df0",
   "metadata": {},
   "source": [
    "#### normalize, text folding & first stopword removal\n",
    "\n",
    "to identify words with same meaning"
   ]
  },
  {
   "cell_type": "code",
   "execution_count": 8,
   "id": "5284a9b3",
   "metadata": {},
   "outputs": [
    {
     "data": {
      "text/plain": [
       "4"
      ]
     },
     "execution_count": 8,
     "metadata": {},
     "output_type": "execute_result"
    }
   ],
   "source": [
    "from collections import Counter\n",
    "common_letters = Counter(\"Autobaby\") & Counter(\"Baby\") \n",
    "sum(common_letters.values())\n",
    "len(\"Baby\")"
   ]
  },
  {
   "cell_type": "code",
   "execution_count": 9,
   "id": "8060c0d0",
   "metadata": {},
   "outputs": [],
   "source": [
    "def normalize_text(text):\n",
    "    tokenized_text = nlp(str(text).lstrip().rstrip())\n",
    "    text = \"\"\n",
    "\n",
    "    for token in tokenized_text:\n",
    "        \n",
    "          if (token.tag_ == \"NN\" or token.tag_ == \"NE\"):\n",
    "            # Check if the noun is already singular\n",
    "            if inflect.singular_noun(str(token)) == False:\n",
    "                text+=\" \"+str(token).lower()\n",
    "            else:  \n",
    "\n",
    "                # Step 2\n",
    "                # singularize a plural noun\n",
    "                try:\n",
    "                    singularized_text = inflect.plural(str(token).lower())\n",
    "                    text+=\" \"+singularized_text.lower()\n",
    "\n",
    "                except IndexError:\n",
    "                    print(str(token))\n",
    "                    text+=\" \"+str(token).lower()\n",
    "                    pass   \n",
    "          else:\n",
    "            \n",
    "            #filter out stopword based on part of speeach tagging\n",
    "            # see https://machinelearningknowledge.ai/tutorial-on-spacy-part-of-speech-pos-tagging/\n",
    "            if (token.pos_ == \"DET\" or token.pos_ == \"ADP\" or \n",
    "                token.pos_ == \"ADP\" or token.pos_ == \"CONJ\" or\n",
    "                token.pos_ == \"PRON\"):\n",
    "                pass\n",
    "                \n",
    "            else:\n",
    "            \n",
    "                #lemmatization sometimes leads to bad results as result\n",
    "                #we make a check for common letter which should be at least the length of the original string -1\n",
    "                #else we are not doing the lemmatization\n",
    "                common_letters = Counter(str(token).lower()) & Counter(str(token.lemma_).lower())\n",
    "\n",
    "                if sum(common_letters.values()) >= len(str(token))-1:\n",
    "                    text+=\" \"+str(token.lemma_).lower()\n",
    "                else:\n",
    "                    text+=\" \"+str(token).lower()\n",
    "\n",
    "    return text\n",
    "\n",
    "df['processed_text'] = df['processed_text'].apply(lambda x: normalize_text(x))"
   ]
  },
  {
   "cell_type": "code",
   "execution_count": 10,
   "id": "2101fc01",
   "metadata": {},
   "outputs": [
    {
     "data": {
      "text/html": [
       "<style type=\"text/css\">\n",
       "</style>\n",
       "<table id=\"T_44a2c_\">\n",
       "  <thead>\n",
       "    <tr>\n",
       "      <th class=\"blank level0\" >&nbsp;</th>\n",
       "      <th class=\"col_heading level0 col0\" >URL</th>\n",
       "      <th class=\"col_heading level0 col1\" >datetime</th>\n",
       "      <th class=\"col_heading level0 col2\" >heading</th>\n",
       "      <th class=\"col_heading level0 col3\" >text</th>\n",
       "      <th class=\"col_heading level0 col4\" >processed_text</th>\n",
       "    </tr>\n",
       "  </thead>\n",
       "  <tbody>\n",
       "    <tr>\n",
       "      <th id=\"T_44a2c_level0_row0\" class=\"row_heading level0 row0\" >0</th>\n",
       "      <td id=\"T_44a2c_row0_col0\" class=\"data row0 col0\" >https://www.scmp.com/news/hong-kong/education/article/3195500/pity-children-hong-kong-counts-cost-months-virtual-lessons</td>\n",
       "      <td id=\"T_44a2c_row0_col1\" class=\"data row0 col1\" >2022-10-11T00:00:11.000Z</td>\n",
       "      <td id=\"T_44a2c_row0_col2\" class=\"data row0 col2\" >Pity the children: Hong Kong counts the cost of months of virtual lessons amid the Covid pandemic, with no time to play, make friends</td>\n",
       "      <td id=\"T_44a2c_row0_col3\" class=\"data row0 col3\" >Younger children struggling to adjust to school life, some teens have anxiety, emotional issuesExperts concerned about youngsters’ greater use of electronic devices, rise in child suicides too</td>\n",
       "      <td id=\"T_44a2c_row0_col4\" class=\"data row0 col4\" > younger children struggling to adjust school life ten have anxiety emotional issuesexpert concerned youngster greater use electronic device rise child suicide too</td>\n",
       "    </tr>\n",
       "    <tr>\n",
       "      <th id=\"T_44a2c_level0_row1\" class=\"row_heading level0 row1\" >1</th>\n",
       "      <td id=\"T_44a2c_row1_col0\" class=\"data row1 col0\" >https://www.scmp.com/news/hong-kong/politics/article/3195492/hong-kong-protests-young-people-jailed-over-unrest-should</td>\n",
       "      <td id=\"T_44a2c_row1_col1\" class=\"data row1 col1\" >2022-10-10T23:30:10.000Z</td>\n",
       "      <td id=\"T_44a2c_row1_col2\" class=\"data row1 col2\" >Hong Kong protests: young people jailed over unrest should be allowed to contribute to society on release, rehabilitation group says</td>\n",
       "      <td id=\"T_44a2c_row1_col3\" class=\"data row1 col3\" >Protesters jailed over 2019 anti-government protests should be used to help beat brain drain and be given more support to continue education behind bars, group saysProject Change appeals to professional bodies to relax rules on members and applicants who had fallen foul of the law</td>\n",
       "      <td id=\"T_44a2c_row1_col4\" class=\"data row1 col4\" > protester jailed 2019 anti government protest should be use to help beat brain drain and be give more support to continue education bar group saysproject change appeal professional bodies to relax rule member and applicant have fallen foul law</td>\n",
       "    </tr>\n",
       "    <tr>\n",
       "      <th id=\"T_44a2c_level0_row2\" class=\"row_heading level0 row2\" >2</th>\n",
       "      <td id=\"T_44a2c_row2_col0\" class=\"data row2 col0\" >https://www.scmp.com/news/hong-kong/politics/article/3195498/russian-consulate-hong-kong-given-advanced-notice-arrival</td>\n",
       "      <td id=\"T_44a2c_row2_col1\" class=\"data row2 col1\" >2022-10-10T15:40:48.000Z</td>\n",
       "      <td id=\"T_44a2c_row2_col2\" class=\"data row2 col2\" >Russian consulate in Hong Kong given advanced notice for arrival of superyacht linked to sanctioned billionaire</td>\n",
       "      <td id=\"T_44a2c_row2_col3\" class=\"data row2 col3\" >Russia’s top envoy in city says he ‘fully agreed’ with decision by Hong Kong Marine Department to refrain from implementing sanctions issued by third countryArrival of the superyacht has led to a diplomatic row between the US and Beijing, with former saying Hong Kong’s reputation is at stake</td>\n",
       "      <td id=\"T_44a2c_row2_col4\" class=\"data row2 col4\" > russia is top envoy city say fully agree decision long long marine department to refrain implementing sanction issue third countryarrival superyacht have lead diplomatic row and seizing former saying long long is reputation is stake</td>\n",
       "    </tr>\n",
       "  </tbody>\n",
       "</table>\n"
      ],
      "text/plain": [
       "<pandas.io.formats.style.Styler at 0x20f1f2eceb0>"
      ]
     },
     "execution_count": 10,
     "metadata": {},
     "output_type": "execute_result"
    }
   ],
   "source": [
    "df.head(3).style"
   ]
  },
  {
   "cell_type": "markdown",
   "id": "1253a1a7",
   "metadata": {},
   "source": [
    "#### remove additional stop words\n",
    "\n",
    "I decided to go here for a list that does not remove much words the standard NLTK or Spacy stop word list\n",
    "Spacys or NLTK Stopword list for example would remove words that are actually important - as I found out later.\n",
    "And therefore would rahter lead to more issues instead of giving meaningful help"
   ]
  },
  {
   "cell_type": "code",
   "execution_count": 12,
   "id": "eae91a92",
   "metadata": {},
   "outputs": [],
   "source": [
    "# custom stoplist\n",
    "customized_stopwords = [\"and\", \"or\", \"either\", \"to\", \n",
    "                        \"such\", \"sure\", \"so\", \"also\", \"usually\", \"just\",\n",
    "                        \"but\", \"however\", \"additionally\", \"furthermore\", \"while\", \"besides\",\n",
    "                        \"are\", \"is\", \"be\", \"will\", \"make\", \"am\", \"has\", \"may\", \"might\", \"would\", \"can\", \"should\",\n",
    "                        \"allow\", \"make\", \"use\"]\n",
    "\n",
    "def remove_stop_words(text):\n",
    "    tokenized_text = str(text).split(\" \")\n",
    "    new_text = \"\"\n",
    "    \n",
    "    for token in tokenized_text:\n",
    "        # Check if the word is in NLTKs stopword list\n",
    "        if token in customized_stopwords:\n",
    "              pass\n",
    "        else:             \n",
    "            new_text += \" \" + str(token)\n",
    "    \n",
    "    if len(new_text) > 5:\n",
    "        return new_text\n",
    "    else:\n",
    "        return text\n",
    "\n",
    "df['processed_text'] = df['processed_text'].apply(lambda x: remove_stop_words(x))"
   ]
  },
  {
   "cell_type": "code",
   "execution_count": 13,
   "id": "dc60d94b",
   "metadata": {},
   "outputs": [
    {
     "data": {
      "text/html": [
       "<style type=\"text/css\">\n",
       "</style>\n",
       "<table id=\"T_62457_\">\n",
       "  <thead>\n",
       "    <tr>\n",
       "      <th class=\"blank level0\" >&nbsp;</th>\n",
       "      <th class=\"col_heading level0 col0\" >URL</th>\n",
       "      <th class=\"col_heading level0 col1\" >datetime</th>\n",
       "      <th class=\"col_heading level0 col2\" >heading</th>\n",
       "      <th class=\"col_heading level0 col3\" >text</th>\n",
       "      <th class=\"col_heading level0 col4\" >processed_text</th>\n",
       "    </tr>\n",
       "  </thead>\n",
       "  <tbody>\n",
       "    <tr>\n",
       "      <th id=\"T_62457_level0_row0\" class=\"row_heading level0 row0\" >0</th>\n",
       "      <td id=\"T_62457_row0_col0\" class=\"data row0 col0\" >https://www.scmp.com/news/hong-kong/education/article/3195500/pity-children-hong-kong-counts-cost-months-virtual-lessons</td>\n",
       "      <td id=\"T_62457_row0_col1\" class=\"data row0 col1\" >2022-10-11T00:00:11.000Z</td>\n",
       "      <td id=\"T_62457_row0_col2\" class=\"data row0 col2\" >Pity the children: Hong Kong counts the cost of months of virtual lessons amid the Covid pandemic, with no time to play, make friends</td>\n",
       "      <td id=\"T_62457_row0_col3\" class=\"data row0 col3\" >Younger children struggling to adjust to school life, some teens have anxiety, emotional issuesExperts concerned about youngsters’ greater use of electronic devices, rise in child suicides too</td>\n",
       "      <td id=\"T_62457_row0_col4\" class=\"data row0 col4\" >  younger children struggling adjust school life ten have anxiety emotional issuesexpert concerned youngster greater electronic device rise child suicide too</td>\n",
       "    </tr>\n",
       "    <tr>\n",
       "      <th id=\"T_62457_level0_row1\" class=\"row_heading level0 row1\" >1</th>\n",
       "      <td id=\"T_62457_row1_col0\" class=\"data row1 col0\" >https://www.scmp.com/news/hong-kong/politics/article/3195492/hong-kong-protests-young-people-jailed-over-unrest-should</td>\n",
       "      <td id=\"T_62457_row1_col1\" class=\"data row1 col1\" >2022-10-10T23:30:10.000Z</td>\n",
       "      <td id=\"T_62457_row1_col2\" class=\"data row1 col2\" >Hong Kong protests: young people jailed over unrest should be allowed to contribute to society on release, rehabilitation group says</td>\n",
       "      <td id=\"T_62457_row1_col3\" class=\"data row1 col3\" >Protesters jailed over 2019 anti-government protests should be used to help beat brain drain and be given more support to continue education behind bars, group saysProject Change appeals to professional bodies to relax rules on members and applicants who had fallen foul of the law</td>\n",
       "      <td id=\"T_62457_row1_col4\" class=\"data row1 col4\" >  protester jailed 2019 anti government protest help beat brain drain give more support continue education bar group saysproject change appeal professional bodies relax rule member applicant have fallen foul law</td>\n",
       "    </tr>\n",
       "    <tr>\n",
       "      <th id=\"T_62457_level0_row2\" class=\"row_heading level0 row2\" >2</th>\n",
       "      <td id=\"T_62457_row2_col0\" class=\"data row2 col0\" >https://www.scmp.com/news/hong-kong/politics/article/3195498/russian-consulate-hong-kong-given-advanced-notice-arrival</td>\n",
       "      <td id=\"T_62457_row2_col1\" class=\"data row2 col1\" >2022-10-10T15:40:48.000Z</td>\n",
       "      <td id=\"T_62457_row2_col2\" class=\"data row2 col2\" >Russian consulate in Hong Kong given advanced notice for arrival of superyacht linked to sanctioned billionaire</td>\n",
       "      <td id=\"T_62457_row2_col3\" class=\"data row2 col3\" >Russia’s top envoy in city says he ‘fully agreed’ with decision by Hong Kong Marine Department to refrain from implementing sanctions issued by third countryArrival of the superyacht has led to a diplomatic row between the US and Beijing, with former saying Hong Kong’s reputation is at stake</td>\n",
       "      <td id=\"T_62457_row2_col4\" class=\"data row2 col4\" >  russia top envoy city say fully agree decision long long marine department refrain implementing sanction issue third countryarrival superyacht have lead diplomatic row seizing former saying long long reputation stake</td>\n",
       "    </tr>\n",
       "  </tbody>\n",
       "</table>\n"
      ],
      "text/plain": [
       "<pandas.io.formats.style.Styler at 0x20f1f2ece20>"
      ]
     },
     "execution_count": 13,
     "metadata": {},
     "output_type": "execute_result"
    }
   ],
   "source": [
    "df.head(3).style"
   ]
  },
  {
   "cell_type": "code",
   "execution_count": 20,
   "id": "502fec37",
   "metadata": {},
   "outputs": [],
   "source": [
    " # Note we can create piplines to thest out out steps in sequences\n",
    "    #  READ:\n",
    "    # https://towardsdatascience.com/how-to-use-sklearn-pipelines-for-ridiculously-neat-code-a61ab66ca90d\n",
    "\n",
    "def apply_normalize_text(df, column='text'):\n",
    "    df[column] = pd.DataFrame(df[column].apply(normalize_text))\n",
    "    return df\n",
    "\n",
    "\n",
    "\n",
    "from sklearn.pipeline import Pipeline\n",
    "#p = Pipeline([\n",
    "            #enter different steps\n",
    "#])\n",
    "\n"
   ]
  }
 ],
 "metadata": {
  "kernelspec": {
   "display_name": "Python 3",
   "language": "python",
   "name": "python3"
  },
  "language_info": {
   "codemirror_mode": {
    "name": "ipython",
    "version": 3
   },
   "file_extension": ".py",
   "mimetype": "text/x-python",
   "name": "python",
   "nbconvert_exporter": "python",
   "pygments_lexer": "ipython3",
   "version": "3.8.8"
  }
 },
 "nbformat": 4,
 "nbformat_minor": 5
}
