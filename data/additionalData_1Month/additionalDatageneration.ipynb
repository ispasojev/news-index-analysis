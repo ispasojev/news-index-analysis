{
 "cells": [
  {
   "cell_type": "markdown",
   "id": "d9252f57-7d27-4f4f-b616-cf183e1dca89",
   "metadata": {},
   "source": [
    "# Generation of additional data"
   ]
  },
  {
   "cell_type": "code",
   "execution_count": 1,
   "id": "830a1edd-4c55-46f1-8ff5-c2f528c35dba",
   "metadata": {},
   "outputs": [],
   "source": [
    "import requests\n",
    "import pandas as pd\n",
    "import datetime as dt\n",
    "import pandas as pd\n",
    "from datetime import datetime"
   ]
  },
  {
   "cell_type": "markdown",
   "id": "fef9cdbd-fc69-4f85-aa68-c76f8090925e",
   "metadata": {},
   "source": [
    "## 1. News data"
   ]
  },
  {
   "cell_type": "code",
   "execution_count": 2,
   "id": "cab10dbf-55db-4921-85dc-a57d0662dc91",
   "metadata": {},
   "outputs": [],
   "source": [
    "# source: https://newsapi.org/\n",
    "# news articles from 15/10/2022 - 13/11/2022 from South China morning post"
   ]
  },
  {
   "cell_type": "code",
   "execution_count": 3,
   "id": "4c8d6b01-2b7b-4bef-bc89-bbcce811e9c9",
   "metadata": {},
   "outputs": [
    {
     "data": {
      "text/plain": [
       "['2022-10-15',\n",
       " '2022-10-16',\n",
       " '2022-10-17',\n",
       " '2022-10-18',\n",
       " '2022-10-19',\n",
       " '2022-10-20',\n",
       " '2022-10-21',\n",
       " '2022-10-22',\n",
       " '2022-10-23',\n",
       " '2022-10-24',\n",
       " '2022-10-25',\n",
       " '2022-10-26',\n",
       " '2022-10-27',\n",
       " '2022-10-28',\n",
       " '2022-10-29',\n",
       " '2022-10-30',\n",
       " '2022-10-31',\n",
       " '2022-11-01',\n",
       " '2022-11-02',\n",
       " '2022-11-03',\n",
       " '2022-11-04',\n",
       " '2022-11-05',\n",
       " '2022-11-06',\n",
       " '2022-11-07',\n",
       " '2022-11-08',\n",
       " '2022-11-09',\n",
       " '2022-11-10',\n",
       " '2022-11-11',\n",
       " '2022-11-12',\n",
       " '2022-11-13']"
      ]
     },
     "execution_count": 3,
     "metadata": {},
     "output_type": "execute_result"
    }
   ],
   "source": [
    "# generate a range of dates from 15/10/2022 - 13/11/2022\n",
    "datelist = pd.date_range(\"15/10/2022\", periods=30).tolist()\n",
    "for i in range(len(datelist)):\n",
    "    datelist[i] = datelist[i].date().strftime(\"%Y-%m-%d\")\n",
    "    \n",
    "datelist"
   ]
  },
  {
   "cell_type": "code",
   "execution_count": 4,
   "id": "20c68787-76f6-430a-a066-c5c9ff5022f2",
   "metadata": {},
   "outputs": [],
   "source": [
    "df = pd.DataFrame()"
   ]
  },
  {
   "cell_type": "code",
   "execution_count": null,
   "id": "88818f7f-4c3d-4d70-b069-90ea320538dd",
   "metadata": {},
   "outputs": [],
   "source": [
    "for date in datelist:\n",
    "    url = \"https://newsapi.org/v2/everything?language=en&domains=scmp.com&from=\" + date + \"&to=\" + date + \"&apiKey=2b40f761dcd7482a9c710b2c78b57389\"\n",
    "    payload={}\n",
    "    headers = {}\n",
    "    res = requests.request(\"GET\", url, headers=headers, data=payload)\n",
    "    \n",
    "    df_res = pd.DataFrame(res.json()['articles'])\n",
    "    df = df.append(df_res)\n"
   ]
  },
  {
   "cell_type": "code",
   "execution_count": null,
   "id": "14b7adb6-3c7c-47cc-9632-e5a3cd4b4aab",
   "metadata": {},
   "outputs": [],
   "source": [
    "df.to_csv('news_data.csv')\n",
    "df.to_parquet('news')"
   ]
  },
  {
   "cell_type": "code",
   "execution_count": null,
   "id": "abb5e98e-1cf3-4ff2-89df-30bfa9472666",
   "metadata": {},
   "outputs": [],
   "source": [
    "df.head(5).style"
   ]
  },
  {
   "cell_type": "markdown",
   "id": "391a438f-0ec0-4569-a54e-ac2179f176e8",
   "metadata": {},
   "source": [
    "## 2. Weather data"
   ]
  },
  {
   "cell_type": "code",
   "execution_count": null,
   "id": "2dfb3608-ae64-4983-a163-cee9bbb3b1b9",
   "metadata": {},
   "outputs": [],
   "source": [
    "# source: https://www.visualcrossing.com/weather/weather-data-services#/login\n",
    "# weather data for hongkong  from 15/10/2022 - 13/11/2022"
   ]
  },
  {
   "cell_type": "code",
   "execution_count": null,
   "id": "ec7fb24f-8712-45dd-b1c5-8d9a9953a8da",
   "metadata": {
    "tags": []
   },
   "outputs": [],
   "source": [
    "url_weather = \"https://weather.visualcrossing.com/VisualCrossingWebServices/rest/services/timeline/Hongkong/2022-10-15/2022-11-13?unitGroup=metric&include=days&key=AXHDWDE2NNGXZVTFJL6P9QH93&contentType=json\"\n",
    "payload_weather={}\n",
    "headers_weather = {}\n",
    "res_weather = requests.request(\"GET\", url_weather, headers=headers_weather, data=payload_weather)\n"
   ]
  },
  {
   "cell_type": "code",
   "execution_count": null,
   "id": "88ee5475-b1e4-41b8-8b8d-e28f279064ab",
   "metadata": {},
   "outputs": [],
   "source": [
    "df_weather = pd.DataFrame(res_weather.json()['days'])\n",
    "df_weather\n"
   ]
  },
  {
   "cell_type": "code",
   "execution_count": null,
   "id": "0b211302-ffe3-42b9-9586-6b9450197a76",
   "metadata": {},
   "outputs": [],
   "source": [
    "df_weather.to_csv('weather.csv')\n",
    "df_weather.to_parquet('weather')"
   ]
  },
  {
   "cell_type": "markdown",
   "id": "77156e5f-dcfa-40f0-b6b1-71be5da67b10",
   "metadata": {},
   "source": [
    "## 3. Index data"
   ]
  },
  {
   "cell_type": "code",
   "execution_count": null,
   "id": "aa1b3819-b717-46d2-a8cc-99c626a7c7b1",
   "metadata": {},
   "outputs": [],
   "source": [
    "# source: https://finance.yahoo.com/quote/%5EHSI/history/\n",
    "# Download as csv"
   ]
  }
 ],
 "metadata": {
  "kernelspec": {
   "display_name": "Python 3 (ipykernel)",
   "language": "python",
   "name": "python3"
  },
  "language_info": {
   "codemirror_mode": {
    "name": "ipython",
    "version": 3
   },
   "file_extension": ".py",
   "mimetype": "text/x-python",
   "name": "python",
   "nbconvert_exporter": "python",
   "pygments_lexer": "ipython3",
   "version": "3.10.0"
  }
 },
 "nbformat": 4,
 "nbformat_minor": 5
}
